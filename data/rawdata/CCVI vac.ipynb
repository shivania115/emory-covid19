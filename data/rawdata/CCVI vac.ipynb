{
 "cells": [
  {
   "cell_type": "code",
   "execution_count": 1,
   "metadata": {},
   "outputs": [],
   "source": [
    "import csv\n",
    "import json\n",
    "import pandas as pd\n",
    "import numpy as np\n",
    "from pprint import pprint \n",
    "from collections import defaultdict, Counter\n",
    "from dateutil.parser import*"
   ]
  },
  {
   "cell_type": "code",
   "execution_count": 2,
   "metadata": {},
   "outputs": [],
   "source": [
    "def make_json(csvFilePath, jsonFilePath):\n",
    "    # create a dictionary\n",
    "    data = {}\n",
    "    with open(csvFilePath, encoding='utf-8') as csvf:\n",
    "        csvReader = csv.DictReader(csvf)\n",
    "        # Convert each row into a dictionary\n",
    "        # and add it to data\n",
    "        for rows in csvReader:\n",
    "            key = rows['ccvi_cat']\n",
    "            data[key] = rows\n",
    " \n",
    "    with open(jsonFilePath, 'w', encoding='utf-8') as jsonf:\n",
    "        jsonf.write(json.dumps(data, indent=4))\n",
    "csvFilePath = r'ccvi_vac.csv'\n",
    "jsonFilePath = r'../ccvi_vac.json'\n",
    "\n",
    "make_json(csvFilePath, jsonFilePath)   "
   ]
  },
  {
   "cell_type": "code",
   "execution_count": null,
   "metadata": {},
   "outputs": [],
   "source": [
    "import csv\n",
    "import json\n",
    "import pandas as pd\n",
    "import numpy as np\n",
    "from pprint import pprint \n",
    "from collections import defaultdict, Counter\n",
    "from dateutil.parser import*\n",
    "\n",
    "def get_lineitem(d):\n",
    "    if d['quintileVar']=='urbanrural':\n",
    "        return{\n",
    "            'quintileVar':d['quintileVar'],\n",
    "            'lbl':d['lbl'],\n",
    "            'measure':d['measure']\n",
    "        }\n",
    "    elif d['quintileVar']=='urbanrural':\n",
    "\n",
    "    try:\n",
    "        DeltaB16172=float(d[\"Delta_B.1.617.2\"])\n",
    "        Omicron=float(d[\"Omicron_B.1.1.529\"])\n",
    "        Otherlineages=float(d['Other_Other*'])\n",
    "        \n",
    "    except ValueError:\n",
    "        DeltaB16172=0\n",
    "        DeltaAY1=0\n",
    "        DeltaAY2=0\n",
    "        Omicron=0\n",
    "        Otherlineages=0\n",
    "        \n",
    "    return {\n",
    "        \"region\":d[\"regionCode\"],\n",
    "        \"DeltaB16172\":DeltaB16172,\n",
    "        \"Omicron\":Omicron,\n",
    "        \"Otherlineages\":Otherlineages,\n",
    "        \n",
    "    }\n",
    "#     return { \n",
    "#                 \"region\":d['regionCode'],z\n",
    "#                 \"Alpha (B.1.1.7)\":d[\"Alpha (B.1.1.7)\"],\n",
    "#                 \"Beta (B.1.351)\": d['Beta (B.1.351)'],\n",
    "#                 \"Delta (B.1.617.2)\": d['Beta (B.1.351)'],\n",
    "#                 \"Delta (AY.1)\":d['Delta (AY.1)'],\n",
    "#                 \"Delta (AY.2)\":d['Delta (AY.2)'],\n",
    "#                 \"Delta (AY.3)\":d['Delta (AY.3)'],\n",
    "#                 \"Gamma (P.1)\": d['Gamma (P.1)'],\n",
    "#                 \"Other Lineages\":d['otherLineages'],\n",
    "#                 \"Total Available Sequences\": d['totalavailableSequences']\n",
    "#     }"
   ]
  },
  {
   "cell_type": "code",
   "execution_count": null,
   "metadata": {},
   "outputs": [],
   "source": [
    "def vaxstatic(fn=\"variantStatic.csv\"):\n",
    "    data=defaultdict(dict)\n",
    "    date=\"\"\n",
    "    with open(fn,\"r\") as fp:\n",
    "        reader=csv.reader(fp)\n",
    "        header=next(reader)\n",
    "        for row in reader:\n",
    "            d={k:v.strip() for k,v in zip(header,row)}\n",
    "            item=get_lineitem(d)\n",
    "            k=\"\"\n",
    "            k=d['quintileVar']\n",
    "            data[k].update(item)\n",
    "    with open(f\"../variantData.json\",\"w\") as fp:\n",
    "        json.dump(data,fp,indent=2)\n",
    "    with open(f\"../variantDate.json\",\"w\") as fp:\n",
    "        json.dump({\"date\":date},fp,indent=2)\n",
    "if __name__==\"__main__\":\n",
    "\n",
    "    vaxstatic()"
   ]
  }
 ],
 "metadata": {
  "kernelspec": {
   "display_name": "Python 3",
   "language": "python",
   "name": "python3"
  },
  "language_info": {
   "codemirror_mode": {
    "name": "ipython",
    "version": 3
   },
   "file_extension": ".py",
   "mimetype": "text/x-python",
   "name": "python",
   "nbconvert_exporter": "python",
   "pygments_lexer": "ipython3",
   "version": "3.7.9"
  }
 },
 "nbformat": 4,
 "nbformat_minor": 4
}
