{
 "cells": [
  {
   "cell_type": "code",
   "execution_count": 5,
   "metadata": {},
   "outputs": [],
   "source": [
    "import csv\n",
    "import json\n",
    "import pandas as pd\n",
    "import numpy as np\n",
    "from pprint import pprint \n",
    "from collections import defaultdict, Counter\n",
    "from dateutil.parser import*\n"
   ]
  },
  {
   "cell_type": "code",
   "execution_count": 6,
   "metadata": {},
   "outputs": [],
   "source": [
    "def get_lineitem(d):\n",
    "    \n",
    "    Alpha = None\n",
    "    Beta = None\n",
    "    Delta = None\n",
    "    Gamma = None\n",
    "    Otherlineages=None\n",
    "    Total_Available_Sequences=None\n",
    "\n",
    "    try:\n",
    "        Alpha=int(d[\"Alpha (B.1.1.7)\"])\n",
    "        Beta=float(d[\"Beta (B.1.351)\"])\n",
    "        Delta=float(d[\"Delta (B.1.617.2)\"])\n",
    "        Gamma=float(d[\"Gamma (P.1)\"])\n",
    "        Otherlineages=float(d['Other.lineages'])\n",
    "        Total_Available_Sequences=(d['Total.Available.Sequences'])\n",
    "\n",
    "    except ValueError:\n",
    "        Alpha=0\n",
    "        Beta=0\n",
    "        Delta=0\n",
    "        Gamma=0\n",
    "        Otherlineages=0\n",
    "        Total_Available_Sequences=0\n",
    "    return { d['regionCode']: [{\n",
    "                \"region\":d['region'],\n",
    "                \"Alpha (B.1.1.7)\":d['Alpha (B.1.1.7)'],\n",
    "                \"Beta (B.1.351)\": d['Beta (B.1.351)'],\n",
    "                \"Delta (B.1.617.2)\": d['Delta (B.1.617.2)'],\n",
    "                \"Gamma (P.1)\": d['Gamma (P.1)'],\n",
    "                \"Other Lineages\":d['Other.lineages'],\n",
    "                \"Total Available Sequences\": d['Total.Available.Sequences']\n",
    "    }]}"
   ]
  },
  {
   "cell_type": "code",
   "execution_count": 7,
   "metadata": {},
   "outputs": [],
   "source": [
    "def vaxstatic(fn=\"variantStatic.csv\"):\n",
    "    data=defaultdict(dict)\n",
    "    date=\"\"\n",
    "    with open(fn,\"r\") as fp:\n",
    "        reader=csv.reader(fp)\n",
    "        header=next(reader)\n",
    "        for row in reader:\n",
    "            d={k:v.strip() for k,v in zip(header,row)}\n",
    "            item=get_lineitem(d)\n",
    "            k=\"\"\n",
    "            k=d['regionCode']\n",
    "            data[k].update(item)\n",
    "            if date<d['Date']:\n",
    "                date=d[\"Date\"]\n",
    "    with open(f\"../variantData.json\",\"w\") as fp:\n",
    "        json.dump(data,fp,indent=2)\n",
    "    with open(f\"../variantDate.json\",\"w\") as fp:\n",
    "        json.dump({\"date\":date},fp,indent=2)\n",
    "if __name__==\"__main__\":\n",
    "\n",
    "    vaxstatic()"
   ]
  },
  {
   "cell_type": "code",
   "execution_count": null,
   "metadata": {},
   "outputs": [],
   "source": []
  }
 ],
 "metadata": {
  "kernelspec": {
   "display_name": "Python 3",
   "language": "python",
   "name": "python3"
  },
  "language_info": {
   "codemirror_mode": {
    "name": "ipython",
    "version": 3
   },
   "file_extension": ".py",
   "mimetype": "text/x-python",
   "name": "python",
   "nbconvert_exporter": "python",
   "pygments_lexer": "ipython3",
   "version": "3.7.9"
  }
 },
 "nbformat": 4,
 "nbformat_minor": 4
}
