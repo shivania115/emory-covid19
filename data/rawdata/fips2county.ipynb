{
 "cells": [
  {
   "cell_type": "code",
   "execution_count": 2,
   "metadata": {},
   "outputs": [],
   "source": [
    "import csv\n",
    "import json\n",
    "import pandas as pd\n",
    "import numpy as np\n",
    "from pprint import pprint\n",
    "from collections import defaultdict, Counter\n",
    "from dateutil.parser import *\n",
    "\n",
    "def fips2county(fn=\"all-geocodes-v2017.csv\"):\n",
    "\n",
    "    fips2county = {}\n",
    "    with open(fn, \"r\", encoding='latin-1') as fp:\n",
    "        reader = csv.reader(fp)\n",
    "        header = next(reader)\n",
    "        for row in reader:\n",
    "            if row[3] != \"00000\":\n",
    "                continue\n",
    "                \n",
    "            state = row[1].strip()\n",
    "            county = row[2].strip()\n",
    "            fips = row[1].strip() + row[2].strip()\n",
    "            name = row[6].strip()\n",
    "            fips2county[fips] = {\"value\": county, \"text\": name, \"state\": state}\n",
    "    with open(\"../f2c.json\", \"w\") as fp:\n",
    "        json.dump(fips2county, fp)\n",
    "\n",
    "if __name__==\"__main__\":\n",
    "\n",
    "    fips2county()\n",
    "\n",
    "\n",
    "\n"
   ]
  },
  {
   "cell_type": "code",
   "execution_count": null,
   "metadata": {},
   "outputs": [],
   "source": []
  }
 ],
 "metadata": {
  "kernelspec": {
   "display_name": "Python 3",
   "language": "python",
   "name": "python3"
  },
  "language_info": {
   "codemirror_mode": {
    "name": "ipython",
    "version": 3
   },
   "file_extension": ".py",
   "mimetype": "text/x-python",
   "name": "python",
   "nbconvert_exporter": "python",
   "pygments_lexer": "ipython3",
   "version": "3.7.3"
  }
 },
 "nbformat": 4,
 "nbformat_minor": 2
}
