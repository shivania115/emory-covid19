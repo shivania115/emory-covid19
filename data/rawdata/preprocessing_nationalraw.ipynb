{
 "cells": [
  {
   "cell_type": "code",
   "execution_count": 5,
   "metadata": {},
   "outputs": [],
   "source": [
    "import csv\n",
    "import json\n",
    "import pandas as pd\n",
    "import numpy as np\n",
    "from pprint import pprint\n",
    "from collections import defaultdict, Counter\n",
    "from dateutil.parser import *\n",
    "\n",
    "\n",
    "\n",
    "def nationalraw(fn=\"nationalraw.csv\"):\n",
    "\n",
    "    varmap = {}\n",
    "    with open(\"variable_mapping.json\", \"r\") as fp:\n",
    "        varmap = json.load(fp)\n",
    "  \n",
    "    date = \"\"\n",
    "    data = {}\n",
    "    with open(fn, \"r\") as fp:\n",
    "        reader = csv.reader(fp)\n",
    "        header = next(reader)\n",
    "        for row in reader:\n",
    "            d = {k:v.strip() for k, v in zip(header, row)}\n",
    "            d_new = {}\n",
    "            for k in varmap.keys():\n",
    "                if k == \"_013_Urbanization\":\n",
    "                    d_new[k] = d[k]\n",
    "                    continue\n",
    "                try:\n",
    "                    d_new[k] = float(d[k])\n",
    "                except ValueError:\n",
    "                    pass\n",
    "            k = \"\"\n",
    "            if d[\"county\"] != \"\":\n",
    "                k = d[\"state\"].zfill(2) + d[\"county\"].zfill(3)\n",
    "            elif d[\"state\"] != \"\":\n",
    "                k = d[\"state\"].zfill(2)\n",
    "            else:\n",
    "                k = \"_nation\"\n",
    "            data[k] = d_new \n",
    "            if date < d[\"date\"]:\n",
    "                date = d[\"date\"]\n",
    "\n",
    "    with open(\"../data.json\", \"w\") as fp:\n",
    "        json.dump(data, fp)\n",
    "\n",
    "    with open(\"../date.json\", \"w\") as fp:\n",
    "        json.dump({\"date\": date}, fp, indent=2)\n",
    "\n",
    "if __name__==\"__main__\":\n",
    "\n",
    "    nationalraw()\n"
   ]
  },
  {
   "cell_type": "code",
   "execution_count": null,
   "metadata": {},
   "outputs": [],
   "source": []
  },
  {
   "cell_type": "code",
   "execution_count": null,
   "metadata": {},
   "outputs": [],
   "source": []
  }
 ],
 "metadata": {
  "kernelspec": {
   "display_name": "Python 3",
   "language": "python",
   "name": "python3"
  },
  "language_info": {
   "codemirror_mode": {
    "name": "ipython",
    "version": 3
   },
   "file_extension": ".py",
   "mimetype": "text/x-python",
   "name": "python",
   "nbconvert_exporter": "python",
   "pygments_lexer": "ipython3",
   "version": "3.7.3"
  }
 },
 "nbformat": 4,
 "nbformat_minor": 2
}
