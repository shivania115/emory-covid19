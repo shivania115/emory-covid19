{
 "cells": [
  {
   "cell_type": "code",
   "execution_count": 1,
   "metadata": {},
   "outputs": [],
   "source": [
    "import csv\n",
    "import json\n",
    "import pandas as pd\n",
    "import numpy as np\n",
    "from pprint import pprint\n",
    "from collections import defaultdict,Counter\n",
    "from dateutil.parser import *\n"
   ]
  },
  {
   "cell_type": "code",
   "execution_count": 2,
   "metadata": {},
   "outputs": [
    {
     "ename": "FileNotFoundError",
     "evalue": "[Errno 2] No such file or directory: 'variantTimeseries.csv'",
     "output_type": "error",
     "traceback": [
      "\u001b[0;31m---------------------------------------------------------------------------\u001b[0m",
      "\u001b[0;31mFileNotFoundError\u001b[0m                         Traceback (most recent call last)",
      "\u001b[0;32m<ipython-input-2-38e5569379d4>\u001b[0m in \u001b[0;36m<module>\u001b[0;34m\u001b[0m\n\u001b[1;32m     75\u001b[0m                 \u001b[0mjson\u001b[0m\u001b[0;34m.\u001b[0m\u001b[0mdump\u001b[0m\u001b[0;34m(\u001b[0m\u001b[0moutput\u001b[0m\u001b[0;34m,\u001b[0m\u001b[0mfp\u001b[0m\u001b[0;34m,\u001b[0m\u001b[0mindent\u001b[0m\u001b[0;34m=\u001b[0m\u001b[0;36m2\u001b[0m\u001b[0;34m)\u001b[0m\u001b[0;34m\u001b[0m\u001b[0;34m\u001b[0m\u001b[0m\n\u001b[1;32m     76\u001b[0m \u001b[0;32mif\u001b[0m \u001b[0m__name__\u001b[0m\u001b[0;34m==\u001b[0m\u001b[0;34m\"__main__\"\u001b[0m\u001b[0;34m:\u001b[0m\u001b[0;34m\u001b[0m\u001b[0;34m\u001b[0m\u001b[0m\n\u001b[0;32m---> 77\u001b[0;31m     \u001b[0mvariantSeries\u001b[0m\u001b[0;34m(\u001b[0m\u001b[0;34m)\u001b[0m\u001b[0;34m\u001b[0m\u001b[0;34m\u001b[0m\u001b[0m\n\u001b[0m",
      "\u001b[0;32m<ipython-input-2-38e5569379d4>\u001b[0m in \u001b[0;36mvariantSeries\u001b[0;34m(fn)\u001b[0m\n\u001b[1;32m     58\u001b[0m \u001b[0;32mdef\u001b[0m \u001b[0mvariantSeries\u001b[0m\u001b[0;34m(\u001b[0m\u001b[0mfn\u001b[0m\u001b[0;34m=\u001b[0m\u001b[0;34m\"variantTimeseries.csv\"\u001b[0m\u001b[0;34m)\u001b[0m\u001b[0;34m:\u001b[0m\u001b[0;34m\u001b[0m\u001b[0;34m\u001b[0m\u001b[0m\n\u001b[1;32m     59\u001b[0m         \u001b[0mdata\u001b[0m\u001b[0;34m=\u001b[0m\u001b[0mdefaultdict\u001b[0m\u001b[0;34m(\u001b[0m\u001b[0mlist\u001b[0m\u001b[0;34m)\u001b[0m\u001b[0;34m\u001b[0m\u001b[0;34m\u001b[0m\u001b[0m\n\u001b[0;32m---> 60\u001b[0;31m         \u001b[0;32mwith\u001b[0m \u001b[0mopen\u001b[0m\u001b[0;34m(\u001b[0m\u001b[0mfn\u001b[0m\u001b[0;34m,\u001b[0m\u001b[0;34m\"r\"\u001b[0m\u001b[0;34m)\u001b[0m \u001b[0;32mas\u001b[0m \u001b[0mfp\u001b[0m\u001b[0;34m:\u001b[0m\u001b[0;34m\u001b[0m\u001b[0;34m\u001b[0m\u001b[0m\n\u001b[0m\u001b[1;32m     61\u001b[0m             \u001b[0mreader\u001b[0m\u001b[0;34m=\u001b[0m\u001b[0mcsv\u001b[0m\u001b[0;34m.\u001b[0m\u001b[0mreader\u001b[0m\u001b[0;34m(\u001b[0m\u001b[0mfp\u001b[0m\u001b[0;34m)\u001b[0m\u001b[0;34m\u001b[0m\u001b[0;34m\u001b[0m\u001b[0m\n\u001b[1;32m     62\u001b[0m             \u001b[0mheader\u001b[0m\u001b[0;34m=\u001b[0m\u001b[0mnext\u001b[0m\u001b[0;34m(\u001b[0m\u001b[0mreader\u001b[0m\u001b[0;34m)\u001b[0m\u001b[0;34m\u001b[0m\u001b[0;34m\u001b[0m\u001b[0m\n",
      "\u001b[0;31mFileNotFoundError\u001b[0m: [Errno 2] No such file or directory: 'variantTimeseries.csv'"
     ]
    }
   ],
   "source": [
    "def get_lineitem(d):\n",
    "#     Alpha = float(d[\"Alpha_B.1.1.7\"])\n",
    "#     Beta = float(d[\"Beta_B.1.351\"])\n",
    "#     B1621=float(d[\"B.1.621\"])\n",
    "    Delta_B=float(d[\"Delta_B.1.617.2\"])\n",
    "#     Delta_AY1=float(d[\"Delta_AY.1\"])\n",
    "#     Delta_AY2=float(d[\"Delta_AY.2\"])\n",
    "#     Iota=float(d[\"Iota_B.1.526\"])\n",
    "#     Eta=float(d['Eta_B.1.525'])\n",
    "#     OtherB16171=float(d[\"Other_B.1.617.1\"])\n",
    "#     OtherB16173=float(d['Other_B.1.617.3'])\n",
    "#     Gamma = float(d[\"Gamma_P.1\"])\n",
    "    Other=float(d['Other_Other*'])\n",
    "    try: \n",
    "#         Alpha = float(d[\"Alpha_B.1.1.7\"])\n",
    "#         Beta = float(d[\"Beta_B.1.351\"])\n",
    "#         B1621=float(d[\"B.1.621\"])\n",
    "        Delta_B=float(d[\"Delta_B.1.617.2\"])\n",
    "#         Delta_AY1=float(d[\"Delta_AY.1\"])\n",
    "#         Delta_AY2=float(d[\"Delta_AY.2\"])\n",
    "#         Iota=float(d[\"Iota_B.1.526\"])\n",
    "#         Eta=float(d['Eta_B.1.525'])\n",
    "#         OtherB16171=float(d[\"Other_B.1.617.1\"])\n",
    "#         OtherB16173=float(d['Other_B.1.617.3'])\n",
    "#         Gamma = float(d[\"Gamma_P.1\"])\n",
    "        Omicron=float(d[\"Omicron_B.1.1.529\"])\n",
    "        Other=float(d['Other_Other*'])\n",
    "\n",
    "    except ValueError:\n",
    "#         Alpha=0\n",
    "#         Beta=0\n",
    "#         B1621=0\n",
    "        Delta_B=0\n",
    "        Delta_AY1=0\n",
    "        Delta_AY2=0\n",
    "#         Iota=0\n",
    "#         Eta=0\n",
    "#         Gamma=0\n",
    "#         OtherB16171=0\n",
    "#         OtherB16173=0\n",
    "        Omicron=0\n",
    "        Other=0\n",
    "    return {\"t\":int(parse(d[\"weekEnding\"]).timestamp()),\n",
    "#             \"Alpha\":Alpha,\n",
    "#             \"Beta\":Beta,\n",
    "#             \"B1621\":B1621,\n",
    "            \"DeltaB16172\":Delta_B,\n",
    "#             \"Iota\":Iota,\n",
    "#             \"DeltaAY1\":Delta_AY1,\n",
    "#             \"DeltaAY2\":Delta_AY2,\n",
    "            \"Omicron\":Omicron,\n",
    "#             \"Eta\":Eta,\n",
    "#             \"OtherB16171\":OtherB16171,\n",
    "#             \"OtherB16173\":OtherB16173,\n",
    "#             \"Gamma\":Gamma,\n",
    "            \"Otherlineages\":Other\n",
    "    }\n",
    "def variantSeries(fn=\"variantTimeseries.csv\"):\n",
    "        data=defaultdict(list)\n",
    "        with open(fn,\"r\") as fp:\n",
    "            reader=csv.reader(fp)\n",
    "            header=next(reader)\n",
    "            for row in reader:\n",
    "                d={k:v.strip() for k,v in zip(header,row)}\n",
    "                if d[\"weekEnding\"]==\"\":\n",
    "                    continue\n",
    "                item=get_lineitem(d)\n",
    "                k=\"\"\n",
    "                k=d[\"regionCode\"].zfill(2)\n",
    "                data[k].append(item)\n",
    "            output=defaultdict(dict)\n",
    "            for k,v in data.items():\n",
    "                output[k]=v\n",
    "            with open(f\"../variantTimeseries.json\",\"w\") as fp:\n",
    "                json.dump(output,fp,indent=2)\n",
    "if __name__==\"__main__\":\n",
    "    variantSeries()"
   ]
  },
  {
   "cell_type": "code",
   "execution_count": null,
   "metadata": {},
   "outputs": [],
   "source": []
  },
  {
   "cell_type": "code",
   "execution_count": null,
   "metadata": {},
   "outputs": [],
   "source": []
  },
  {
   "cell_type": "code",
   "execution_count": null,
   "metadata": {},
   "outputs": [],
   "source": []
  }
 ],
 "metadata": {
  "kernelspec": {
   "display_name": "Python 3",
   "language": "python",
   "name": "python3"
  },
  "language_info": {
   "codemirror_mode": {
    "name": "ipython",
    "version": 3
   },
   "file_extension": ".py",
   "mimetype": "text/x-python",
   "name": "python",
   "nbconvert_exporter": "python",
   "pygments_lexer": "ipython3",
   "version": "3.7.9"
  }
 },
 "nbformat": 4,
 "nbformat_minor": 4
}
