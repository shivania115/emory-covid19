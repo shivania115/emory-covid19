{
 "cells": [
  {
   "cell_type": "code",
   "execution_count": 1,
   "metadata": {},
   "outputs": [
    {
     "name": "stdout",
     "output_type": "stream",
     "text": [
      "Requirement already satisfied: dnspython in /Applications/Anaconda/anaconda3/lib/python3.7/site-packages (2.0.0)\n",
      "Note: you may need to restart the kernel to use updated packages.\n",
      "star\n",
      "CPU times: user 3.65 s, sys: 605 ms, total: 4.25 s\n",
      "Wall time: 1min 24s\n"
     ]
    }
   ],
   "source": [
    "%%time\n",
    "%run preprocessing_nationalraw-mongodb.ipynb"
   ]
  },
  {
   "cell_type": "code",
   "execution_count": 2,
   "metadata": {},
   "outputs": [
    {
     "name": "stdout",
     "output_type": "stream",
     "text": [
      "Requirement already satisfied: dnspython in /Applications/Anaconda/anaconda3/lib/python3.7/site-packages (2.0.0)\n",
      "Note: you may need to restart the kernel to use updated packages.\n",
      "star\n",
      "CPU times: user 2min 1s, sys: 6.2 s, total: 2min 7s\n",
      "Wall time: 7min 30s\n"
     ]
    }
   ],
   "source": [
    "%%time\n",
    "%run preprocess_timeseries-mongodb.ipynb"
   ]
  },
  {
   "cell_type": "code",
   "execution_count": 3,
   "metadata": {},
   "outputs": [
    {
     "name": "stdout",
     "output_type": "stream",
     "text": [
      "star\n",
      "CPU times: user 58.6 s, sys: 635 ms, total: 59.3 s\n",
      "Wall time: 1min 2s\n"
     ]
    }
   ],
   "source": [
    "%%time\n",
    "%run preprocess_timeseriesALL-mongodb.ipynb"
   ]
  },
  {
   "cell_type": "code",
   "execution_count": 4,
   "metadata": {},
   "outputs": [
    {
     "name": "stdout",
     "output_type": "stream",
     "text": [
      "star\n",
      "CPU times: user 148 ms, sys: 19.6 ms, total: 168 ms\n",
      "Wall time: 674 ms\n"
     ]
    }
   ],
   "source": [
    "%%time\n",
    "%run staticracedata2-mongodb.ipynb"
   ]
  },
  {
   "cell_type": "code",
   "execution_count": 5,
   "metadata": {},
   "outputs": [
    {
     "name": "stdout",
     "output_type": "stream",
     "text": [
      "star\n",
      "CPU times: user 473 ms, sys: 17.6 ms, total: 491 ms\n",
      "Wall time: 1.13 s\n"
     ]
    }
   ],
   "source": [
    "%%time\n",
    "%run top10trendlines-mongodb.ipynb"
   ]
  },
  {
   "cell_type": "code",
   "execution_count": 6,
   "metadata": {},
   "outputs": [
    {
     "name": "stdout",
     "output_type": "stream",
     "text": [
      "star\n",
      "CPU times: user 64 ms, sys: 9.11 ms, total: 73.2 ms\n",
      "Wall time: 788 ms\n"
     ]
    }
   ],
   "source": [
    "%%time\n",
    "%run top10county-mongodb.ipynb"
   ]
  },
  {
   "cell_type": "code",
   "execution_count": 7,
   "metadata": {},
   "outputs": [
    {
     "name": "stdout",
     "output_type": "stream",
     "text": [
      "star\n",
      "CPU times: user 64.2 ms, sys: 8.13 ms, total: 72.3 ms\n",
      "Wall time: 446 ms\n"
     ]
    }
   ],
   "source": [
    "%%time\n",
    "%run nationalMortalityBar-mongodb.ipynb"
   ]
  },
  {
   "cell_type": "code",
   "execution_count": 8,
   "metadata": {},
   "outputs": [
    {
     "name": "stdout",
     "output_type": "stream",
     "text": [
      "star\n",
      "CPU times: user 65.3 ms, sys: 8.11 ms, total: 73.4 ms\n",
      "Wall time: 437 ms\n"
     ]
    }
   ],
   "source": [
    "%%time\n",
    "%run nationalCasesBar-mongodb.ipynb"
   ]
  },
  {
   "cell_type": "code",
   "execution_count": null,
   "metadata": {},
   "outputs": [],
   "source": []
  }
 ],
 "metadata": {
  "kernelspec": {
   "display_name": "Python 3",
   "language": "python",
   "name": "python3"
  },
  "language_info": {
   "codemirror_mode": {
    "name": "ipython",
    "version": 3
   },
   "file_extension": ".py",
   "mimetype": "text/x-python",
   "name": "python",
   "nbconvert_exporter": "python",
   "pygments_lexer": "ipython3",
   "version": "3.7.3"
  }
 },
 "nbformat": 4,
 "nbformat_minor": 2
}
