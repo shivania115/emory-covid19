{
 "cells": [
  {
   "cell_type": "code",
   "execution_count": 1,
   "metadata": {},
   "outputs": [
    {
     "name": "stdout",
     "output_type": "stream",
     "text": [
      "Requirement already satisfied: dnspython in /Users/starsdliu/anaconda3/lib/python3.7/site-packages (2.0.0)\n",
      "Note: you may need to restart the kernel to use updated packages.\n",
      "star\n",
      "CPU times: user 4.08 s, sys: 707 ms, total: 4.78 s\n",
      "Wall time: 1min 31s\n"
     ]
    }
   ],
   "source": [
    "%%time\n",
    "%run preprocessing_nationalraw-mongodb.ipynb"
   ]
  },
  {
   "cell_type": "code",
   "execution_count": 2,
   "metadata": {},
   "outputs": [
    {
     "name": "stdout",
     "output_type": "stream",
     "text": [
      "Requirement already satisfied: dnspython in /Users/starsdliu/anaconda3/lib/python3.7/site-packages (2.0.0)\n",
      "Note: you may need to restart the kernel to use updated packages.\n",
      "star\n",
      "CPU times: user 2min 17s, sys: 8.42 s, total: 2min 25s\n",
      "Wall time: 6min 49s\n"
     ]
    }
   ],
   "source": [
    "%%time\n",
    "%run preprocess_timeseries-mongodb.ipynb"
   ]
  },
  {
   "cell_type": "code",
   "execution_count": 3,
   "metadata": {},
   "outputs": [
    {
     "name": "stdout",
     "output_type": "stream",
     "text": [
      "star\n",
      "CPU times: user 1min 13s, sys: 1.14 s, total: 1min 14s\n",
      "Wall time: 1min 27s\n"
     ]
    }
   ],
   "source": [
    "%%time\n",
    "%run preprocess_timeseriesALL-mongodb.ipynb"
   ]
  },
  {
   "cell_type": "code",
   "execution_count": 4,
   "metadata": {},
   "outputs": [
    {
     "name": "stdout",
     "output_type": "stream",
     "text": [
      "star\n",
      "CPU times: user 95.4 ms, sys: 13.5 ms, total: 109 ms\n",
      "Wall time: 640 ms\n"
     ]
    }
   ],
   "source": [
    "%%time\n",
    "%run staticracedata2-mongodb.ipynb"
   ]
  },
  {
   "cell_type": "code",
   "execution_count": 5,
   "metadata": {},
   "outputs": [
    {
     "name": "stdout",
     "output_type": "stream",
     "text": [
      "star\n",
      "CPU times: user 278 ms, sys: 11.1 ms, total: 290 ms\n",
      "Wall time: 813 ms\n"
     ]
    }
   ],
   "source": [
    "%%time\n",
    "%run top10trendlines-mongodb.ipynb"
   ]
  },
  {
   "cell_type": "code",
   "execution_count": 6,
   "metadata": {},
   "outputs": [
    {
     "name": "stdout",
     "output_type": "stream",
     "text": [
      "star\n",
      "CPU times: user 44.1 ms, sys: 6.36 ms, total: 50.4 ms\n",
      "Wall time: 353 ms\n"
     ]
    }
   ],
   "source": [
    "%%time\n",
    "%run top10county-mongodb.ipynb"
   ]
  },
  {
   "cell_type": "code",
   "execution_count": 7,
   "metadata": {},
   "outputs": [
    {
     "name": "stdout",
     "output_type": "stream",
     "text": [
      "star\n",
      "CPU times: user 44.9 ms, sys: 6.57 ms, total: 51.5 ms\n",
      "Wall time: 354 ms\n"
     ]
    }
   ],
   "source": [
    "%%time\n",
    "%run nationalMortalityBar-mongodb.ipynb"
   ]
  },
  {
   "cell_type": "code",
   "execution_count": 8,
   "metadata": {},
   "outputs": [
    {
     "name": "stdout",
     "output_type": "stream",
     "text": [
      "star\n",
      "CPU times: user 42.2 ms, sys: 6.51 ms, total: 48.7 ms\n",
      "Wall time: 428 ms\n"
     ]
    }
   ],
   "source": [
    "%%time\n",
    "%run nationalCasesBar-mongodb.ipynb"
   ]
  },
  {
   "cell_type": "code",
   "execution_count": null,
   "metadata": {},
   "outputs": [],
   "source": []
  }
 ],
 "metadata": {
  "kernelspec": {
   "display_name": "Python 3",
   "language": "python",
   "name": "python3"
  },
  "language_info": {
   "codemirror_mode": {
    "name": "ipython",
    "version": 3
   },
   "file_extension": ".py",
   "mimetype": "text/x-python",
   "name": "python",
   "nbconvert_exporter": "python",
   "pygments_lexer": "ipython3",
   "version": "3.7.3"
  }
 },
 "nbformat": 4,
 "nbformat_minor": 2
}
