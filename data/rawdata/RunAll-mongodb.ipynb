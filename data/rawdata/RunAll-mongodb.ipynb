{
 "cells": [
  {
   "cell_type": "code",
   "execution_count": 1,
   "metadata": {
    "scrolled": true
   },
   "outputs": [
    {
     "name": "stdout",
     "output_type": "stream",
     "text": [
      "Requirement already satisfied: dnspython in /opt/anaconda3/lib/python3.7/site-packages (2.1.0)\n",
      "Note: you may need to restart the kernel to use updated packages.\n",
      "Requirement already satisfied: pymongo in /opt/anaconda3/lib/python3.7/site-packages (3.11.4)\n",
      "Note: you may need to restart the kernel to use updated packages.\n",
      "Requirement already satisfied: python-dotenv in /opt/anaconda3/lib/python3.7/site-packages (0.17.1)\n",
      "Note: you may need to restart the kernel to use updated packages.\n",
      "Requirement already satisfied: plotly in /opt/anaconda3/lib/python3.7/site-packages (4.14.3)\n",
      "Requirement already satisfied: retrying>=1.3.3 in /opt/anaconda3/lib/python3.7/site-packages (from plotly) (1.3.3)\n",
      "Requirement already satisfied: six in /opt/anaconda3/lib/python3.7/site-packages (from plotly) (1.15.0)\n",
      "Note: you may need to restart the kernel to use updated packages.\n",
      "kevin\n"
     ]
    },
    {
     "name": "stderr",
     "output_type": "stream",
     "text": [
      "preprocessing_nationalraw-mongodb.ipynb:4: SettingWithCopyWarning: \n",
      "A value is trying to be set on a copy of a slice from a DataFrame\n",
      "\n",
      "See the caveats in the documentation: https://pandas.pydata.org/pandas-docs/stable/user_guide/indexing.html#returning-a-view-versus-a-copy\n",
      "  \"cell_type\": \"code\",\n",
      "preprocessing_nationalraw-mongodb.ipynb:4: SettingWithCopyWarning: \n",
      "A value is trying to be set on a copy of a slice from a DataFrame.\n",
      "Try using .loc[row_indexer,col_indexer] = value instead\n",
      "\n",
      "See the caveats in the documentation: https://pandas.pydata.org/pandas-docs/stable/user_guide/indexing.html#returning-a-view-versus-a-copy\n",
      "  \"cell_type\": \"code\",\n"
     ]
    },
    {
     "name": "stdout",
     "output_type": "stream",
     "text": [
      "{'01': {'state_cd': '01', 'state_abbr': 'AL'}, '02': {'state_cd': '02', 'state_abbr': 'AK'}, '04': {'state_cd': '04', 'state_abbr': 'AZ'}, '05': {'state_cd': '05', 'state_abbr': 'AR'}, '06': {'state_cd': '06', 'state_abbr': 'CA'}, '08': {'state_cd': '08', 'state_abbr': 'CO'}, '09': {'state_cd': '09', 'state_abbr': 'CT'}, '10': {'state_cd': '10', 'state_abbr': 'DE'}, '11': {'state_cd': '11', 'state_abbr': 'DC'}, '12': {'state_cd': '12', 'state_abbr': 'FL'}, '13': {'state_cd': '13', 'state_abbr': 'GA'}, '15': {'state_cd': '15', 'state_abbr': 'HI'}, '16': {'state_cd': '16', 'state_abbr': 'ID'}, '17': {'state_cd': '17', 'state_abbr': 'IL'}, '18': {'state_cd': '18', 'state_abbr': 'IN'}, '19': {'state_cd': '19', 'state_abbr': 'IA'}, '20': {'state_cd': '20', 'state_abbr': 'KS'}, '21': {'state_cd': '21', 'state_abbr': 'KY'}, '22': {'state_cd': '22', 'state_abbr': 'LA'}, '23': {'state_cd': '23', 'state_abbr': 'ME'}, '24': {'state_cd': '24', 'state_abbr': 'MD'}, '25': {'state_cd': '25', 'state_abbr': 'MA'}, '26': {'state_cd': '26', 'state_abbr': 'MI'}, '27': {'state_cd': '27', 'state_abbr': 'MN'}, '28': {'state_cd': '28', 'state_abbr': 'MS'}, '29': {'state_cd': '29', 'state_abbr': 'MO'}, '30': {'state_cd': '30', 'state_abbr': 'MT'}, '31': {'state_cd': '31', 'state_abbr': 'NE'}, '32': {'state_cd': '32', 'state_abbr': 'NV'}, '33': {'state_cd': '33', 'state_abbr': 'NH'}, '34': {'state_cd': '34', 'state_abbr': 'NJ'}, '35': {'state_cd': '35', 'state_abbr': 'NM'}, '36': {'state_cd': '36', 'state_abbr': 'NY'}, '37': {'state_cd': '37', 'state_abbr': 'NC'}, '38': {'state_cd': '38', 'state_abbr': 'ND'}, '39': {'state_cd': '39', 'state_abbr': 'OH'}, '40': {'state_cd': '40', 'state_abbr': 'OK'}, '41': {'state_cd': '41', 'state_abbr': 'OR'}, '42': {'state_cd': '42', 'state_abbr': 'PA'}, '44': {'state_cd': '44', 'state_abbr': 'RI'}, '45': {'state_cd': '45', 'state_abbr': 'SC'}, '46': {'state_cd': '46', 'state_abbr': 'SD'}, '47': {'state_cd': '47', 'state_abbr': 'TN'}, '48': {'state_cd': '48', 'state_abbr': 'TX'}, '49': {'state_cd': '49', 'state_abbr': 'UT'}, '50': {'state_cd': '50', 'state_abbr': 'VT'}, '51': {'state_cd': '51', 'state_abbr': 'VA'}, '53': {'state_cd': '53', 'state_abbr': 'WA'}, '54': {'state_cd': '54', 'state_abbr': 'WV'}, '55': {'state_cd': '55', 'state_abbr': 'WI'}, '56': {'state_cd': '56', 'state_abbr': 'WY'}, '60': {'state_cd': '60', 'state_abbr': 'AS'}, '64': {'state_cd': '64', 'state_abbr': 'FM'}, '66': {'state_cd': '66', 'state_abbr': 'GU'}, '68': {'state_cd': '68', 'state_abbr': 'MH'}, '69': {'state_cd': '69', 'state_abbr': 'MP'}, '70': {'state_cd': '70', 'state_abbr': 'PW'}, '72': {'state_cd': '72', 'state_abbr': 'PR'}, '74': {'state_cd': '74', 'state_abbr': 'UM'}, '78': {'state_cd': '78', 'state_abbr': 'VI'}}\n"
     ]
    },
    {
     "name": "stderr",
     "output_type": "stream",
     "text": [
      "preprocessing_nationalraw-mongodb.ipynb:248: SettingWithCopyWarning:\n",
      "\n",
      "\n",
      "A value is trying to be set on a copy of a slice from a DataFrame.\n",
      "Try using .loc[row_indexer,col_indexer] = value instead\n",
      "\n",
      "See the caveats in the documentation: https://pandas.pydata.org/pandas-docs/stable/user_guide/indexing.html#returning-a-view-versus-a-copy\n",
      "\n"
     ]
    },
    {
     "name": "stdout",
     "output_type": "stream",
     "text": [
      "CPU times: user 2min 14s, sys: 2.85 s, total: 2min 17s\n",
      "Wall time: 3min 32s\n"
     ]
    }
   ],
   "source": [
    "%%time\n",
    "%run preprocessing_nationalraw-mongodb.ipynb"
   ]
  },
  {
   "cell_type": "code",
   "execution_count": 3,
   "metadata": {},
   "outputs": [
    {
     "name": "stdout",
     "output_type": "stream",
     "text": [
      "Requirement already satisfied: dnspython in /opt/anaconda3/lib/python3.7/site-packages (2.1.0)\n",
      "Note: you may need to restart the kernel to use updated packages.\n",
      "kevin\n",
      "CPU times: user 5min 24s, sys: 19.6 s, total: 5min 44s\n",
      "Wall time: 2h 52min 32s\n"
     ]
    }
   ],
   "source": [
    "%%time\n",
    "%run preprocessing_timeseries-mongodb.ipynb\n"
   ]
  },
  {
   "cell_type": "code",
   "execution_count": 4,
   "metadata": {},
   "outputs": [
    {
     "name": "stdout",
     "output_type": "stream",
     "text": [
      "kevin\n",
      "CPU times: user 2min 49s, sys: 2.52 s, total: 2min 51s\n",
      "Wall time: 3min 19s\n"
     ]
    }
   ],
   "source": [
    "%%time\n",
    "%run preprocessing_timeseriesALL-mongodb.ipynb"
   ]
  },
  {
   "cell_type": "code",
   "execution_count": 1,
   "metadata": {},
   "outputs": [
    {
     "name": "stdout",
     "output_type": "stream",
     "text": [
      "kevin\n",
      "CPU times: user 2.16 s, sys: 306 ms, total: 2.47 s\n",
      "Wall time: 14.5 s\n"
     ]
    }
   ],
   "source": [
    "%%time\n",
    "%run preprocessing_top10trendlines-mongodb.ipynb"
   ]
  },
  {
   "cell_type": "code",
   "execution_count": 2,
   "metadata": {},
   "outputs": [
    {
     "name": "stdout",
     "output_type": "stream",
     "text": [
      "kevin\n",
      "CPU times: user 76.2 ms, sys: 15.2 ms, total: 91.4 ms\n",
      "Wall time: 4.01 s\n"
     ]
    }
   ],
   "source": [
    "%%time\n",
    "%run preprocessing_top10county-mongodb.ipynb"
   ]
  },
  {
   "cell_type": "code",
   "execution_count": 3,
   "metadata": {},
   "outputs": [
    {
     "name": "stdout",
     "output_type": "stream",
     "text": [
      "kevin\n",
      "CPU times: user 94 ms, sys: 18.7 ms, total: 113 ms\n",
      "Wall time: 4.23 s\n"
     ]
    }
   ],
   "source": [
    "%%time\n",
    "%run preprocessing_nationalBarChart-mongodb.ipynb"
   ]
  },
  {
   "cell_type": "code",
   "execution_count": 4,
   "metadata": {},
   "outputs": [
    {
     "name": "stdout",
     "output_type": "stream",
     "text": [
      "kevin\n",
      "distDate\n",
      "distDate\n",
      "distDate\n",
      "distDate\n",
      "distDate\n",
      "distDate\n",
      "distDate\n",
      "distDate\n",
      "distDate\n",
      "distDate\n",
      "distDate\n",
      "distDate\n",
      "distDate\n",
      "distDate\n",
      "distDate\n",
      "distDate\n",
      "distDate\n",
      "distDate\n",
      "distDate\n",
      "distDate\n",
      "distDate\n",
      "distDate\n",
      "distDate\n",
      "distDate\n",
      "distDate\n",
      "distDate\n",
      "distDate\n",
      "distDate\n",
      "distDate\n",
      "distDate\n",
      "distDate\n",
      "distDate\n",
      "Doses_Distributed\n",
      "Doses_Administered\n",
      "Dist_new\n",
      "distDate\n",
      "distDate\n",
      "distDate\n",
      "distDate\n",
      "distDate\n",
      "distDate\n",
      "distDate\n",
      "distDate\n",
      "distDate\n",
      "distDate\n",
      "distDate\n",
      "distDate\n",
      "distDate\n",
      "distDate\n",
      "distDate\n",
      "distDate\n",
      "distDate\n",
      "distDate\n",
      "distDate\n",
      "distDate\n",
      "CPU times: user 107 ms, sys: 22.5 ms, total: 129 ms\n",
      "Wall time: 4.59 s\n"
     ]
    }
   ],
   "source": [
    "%%time\n",
    "%run preprocessing_VaccineStatic-mongo.ipynb"
   ]
  },
  {
   "cell_type": "code",
   "execution_count": 5,
   "metadata": {},
   "outputs": [
    {
     "name": "stderr",
     "output_type": "stream",
     "text": [
      "/opt/anaconda3/lib/python3.7/site-packages/IPython/core/interactiveshell.py:3338: DtypeWarning: Columns (2) have mixed types.Specify dtype option on import or set low_memory=False.\n",
      "  if (await self.run_code(code, result,  async_=asy)):\n"
     ]
    },
    {
     "name": "stdout",
     "output_type": "stream",
     "text": [
      "CPU times: user 14.5 s, sys: 369 ms, total: 14.9 s\n",
      "Wall time: 31 s\n"
     ]
    }
   ],
   "source": [
    "%%time\n",
    "%run preprocessing_Vaccine_timeseries-mongo.ipynb"
   ]
  },
  {
   "cell_type": "code",
   "execution_count": 6,
   "metadata": {},
   "outputs": [
    {
     "name": "stdout",
     "output_type": "stream",
     "text": [
      "kevin\n",
      "CPU times: user 1.07 s, sys: 37.3 ms, total: 1.11 s\n",
      "Wall time: 4.69 s\n"
     ]
    }
   ],
   "source": [
    "%%time\n",
    "# %run national_demog-mongodb.ipynb\n",
    "%run preprocessing_national_demog_wVaccine-mongodb.ipynb"
   ]
  },
  {
   "cell_type": "code",
   "execution_count": null,
   "metadata": {},
   "outputs": [],
   "source": [
    "%%time\n",
    "%run preprocessing_vaccineTrends-mongodb.ipynb"
   ]
  },
  {
   "cell_type": "code",
   "execution_count": 1,
   "metadata": {},
   "outputs": [
    {
     "name": "stdout",
     "output_type": "stream",
     "text": [
      "kevin\n",
      "CPU times: user 942 ms, sys: 199 ms, total: 1.14 s\n",
      "Wall time: 4.42 s\n"
     ]
    }
   ],
   "source": [
    "%%time\n",
    "%run percentVacc_Past14.ipynb"
   ]
  },
  {
   "cell_type": "code",
   "execution_count": null,
   "metadata": {},
   "outputs": [],
   "source": []
  },
  {
   "cell_type": "code",
   "execution_count": 5,
   "metadata": {
    "scrolled": true
   },
   "outputs": [
    {
     "name": "stdout",
     "output_type": "stream",
     "text": [
      "kevin\n",
      "CPU times: user 103 ms, sys: 20.9 ms, total: 124 ms\n",
      "Wall time: 5.51 s\n"
     ]
    }
   ],
   "source": [
    "%%time\n",
    "%run preprocessing_staticracedata2-mongodb.ipynb"
   ]
  },
  {
   "cell_type": "code",
   "execution_count": null,
   "metadata": {},
   "outputs": [],
   "source": []
  },
  {
   "cell_type": "code",
   "execution_count": null,
   "metadata": {},
   "outputs": [],
   "source": []
  }
 ],
 "metadata": {
  "kernelspec": {
   "display_name": "Python 3",
   "language": "python",
   "name": "python3"
  },
  "language_info": {
   "codemirror_mode": {
    "name": "ipython",
    "version": 3
   },
   "file_extension": ".py",
   "mimetype": "text/x-python",
   "name": "python",
   "nbconvert_exporter": "python",
   "pygments_lexer": "ipython3",
   "version": "3.7.9"
  }
 },
 "nbformat": 4,
 "nbformat_minor": 2
}
